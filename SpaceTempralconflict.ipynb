{
 "cells": [
  {
   "cell_type": "code",
   "execution_count": null,
   "id": "initial_id",
   "metadata": {
    "collapsed": true
   },
   "source": [
    "import pandas as pd\n",
    "import numpy as np\n",
    "import matplotlib.pyplot as plt\n",
    "import seaborn as sns\n",
    "import networkx as nx\n",
    "from datetime import datetime\n",
    "import itertools\n",
    "from tqdm import tqdm\n",
    "import torch\n",
    "import geopandas as gpd"
   ]
  },
  {
   "cell_type": "code",
   "source": [
    "import re\n",
    "with open('SpaceTempralconflict.ipynb', 'r') as file:\n",
    "    # Read original notebook file to string\n",
    "    jupyter = file.read()\n",
    "\n",
    "    # Run a regex based search and replace, wipe all empty outputs properties.\n",
    "    outputs_tag_removed = re.sub(',\\n\\s+\\\"outputs\\\":\\ \\[\\]', '', jupyter)\n",
    "\n",
    "    # Overwrite original notebook file\n",
    "    print(outputs_tag_removed, file=open('SpaceTempralconflict.ipynb', 'w'))"
   ],
   "metadata": {
    "collapsed": false,
    "ExecuteTime": {
     "end_time": "2024-03-11T11:50:02.556790Z",
     "start_time": "2024-03-11T11:50:02.542274Z"
    }
   },
   "id": "5e2b29fbc14a4530",
   "execution_count": 1
  },
  {
   "cell_type": "code",
   "source": [
    "cities = gpd.read_file(gpd.datasets.get_path('naturalearth_cities'))\n",
    "frontiers = gpd.read_file((gpd.datasets.get_path('naturalearth_lowres')))"
   ],
   "metadata": {
    "collapsed": false
   },
   "id": "ecc0c0814401a274",
   "execution_count": null
  },
  {
   "cell_type": "code",
   "source": [
    "cities.head()"
   ],
   "metadata": {
    "collapsed": false
   },
   "id": "476c4cfc8fc138cc",
   "execution_count": null
  },
  {
   "cell_type": "code",
   "source": [
    "frontiers.head()"
   ],
   "metadata": {
    "collapsed": false
   },
   "id": "bf5cb58b54d2211d",
   "execution_count": null
  },
  {
   "cell_type": "code",
   "source": [],
   "metadata": {
    "collapsed": false
   },
   "id": "9f25c7b9a297da11",
   "execution_count": null
  },
  {
   "cell_type": "code",
   "source": [
    "df_events=pd.read_csv('ged201.csv' ,dtype={'gwnoa': object})"
   ],
   "metadata": {
    "collapsed": false
   },
   "id": "a10aa367e5ada39c",
   "execution_count": null
  },
  {
   "cell_type": "code",
   "source": [],
   "metadata": {
    "collapsed": false
   },
   "id": "7513edb293c2d46d",
   "execution_count": null
  },
  {
   "cell_type": "code",
   "source": [
    "df_events.info()"
   ],
   "metadata": {
    "collapsed": false
   },
   "id": "b2faa2d1fcb2045",
   "execution_count": null
  },
  {
   "cell_type": "code",
   "source": [
    "print(f'{len(df_events.latitude)/len (df_events)*100}%')"
   ],
   "metadata": {
    "collapsed": false
   },
   "id": "ce4e90cfce0aec32",
   "execution_count": null
  },
  {
   "cell_type": "code",
   "source": [
    "print(f'{len(df_events.longitude)/len (df_events)*100}%')\n"
   ],
   "metadata": {
    "collapsed": false
   },
   "id": "d8c3ca6ff6347767",
   "execution_count": null
  },
  {
   "cell_type": "code",
   "source": [
    "serie_noNan=df_events.isna().sum()==0"
   ],
   "metadata": {
    "collapsed": false
   },
   "id": "4932ca3104869062",
   "execution_count": null
  },
  {
   "cell_type": "code",
   "source": [
    "df_nonNan=pd.DataFrame(serie_noNan, columns=['valid'])"
   ],
   "metadata": {
    "collapsed": false
   },
   "id": "64c4c82508eb3e83",
   "execution_count": null
  },
  {
   "cell_type": "code",
   "source": [
    "df_nonNan.index"
   ],
   "metadata": {
    "collapsed": false
   },
   "id": "a5344ee6668ec522",
   "execution_count": null
  },
  {
   "cell_type": "code",
   "source": [
    "df_nonNan = df_nonNan[df_nonNan.valid==True]"
   ],
   "metadata": {
    "collapsed": false
   },
   "id": "f43bca5283618b43",
   "execution_count": null
  },
  {
   "cell_type": "code",
   "source": [
    "df_nonNan.index"
   ],
   "metadata": {
    "collapsed": false
   },
   "id": "281a0291352f7444",
   "execution_count": null
  },
  {
   "cell_type": "code",
   "source": [
    "df_dataset= df_events[df_nonNan.index]"
   ],
   "metadata": {
    "collapsed": false
   },
   "id": "9c649281aa87e589",
   "execution_count": null
  },
  {
   "cell_type": "code",
   "source": [
    "df_dataset"
   ],
   "metadata": {
    "collapsed": false
   },
   "id": "f4f2b1d5d39ead71",
   "execution_count": null
  },
  {
   "cell_type": "code",
   "source": [
    "df_dataset.info()"
   ],
   "metadata": {
    "collapsed": false
   },
   "id": "1246709e6783926",
   "execution_count": null
  },
  {
   "cell_type": "markdown",
   "source": [
    "fig, (ax1) = plt.subplots(nrows=1, ncols=1, figsize=(15, 5))\n",
    "plt.suptitle(f'densité des zones de conflit par état ', fontsize=16)\n",
    "ax1.pie(df_dataset.country.value_counts(),labels=df_dataset.country.value_counts().index)\n"
   ],
   "metadata": {
    "collapsed": false
   },
   "id": "c17dd2ab38c77e0d"
  },
  {
   "cell_type": "code",
   "source": [
    "gdf.region.unique()"
   ],
   "metadata": {
    "collapsed": false
   },
   "id": "665c3cb9e2dc675e",
   "execution_count": null
  },
  {
   "cell_type": "markdown",
   "source": [
    "# Type of violence for year 2014 by region\n",
    "## Purple: state-based conflict, \n",
    "## Sky-blue: non-state conflict, \n",
    "## Brown: one-sided violence"
   ],
   "metadata": {
    "collapsed": false
   },
   "id": "2fc4c60ce756798"
  },
  {
   "cell_type": "code",
   "source": [
    "\n",
    "Year_2002=gdf[gdf.year==2002]"
   ],
   "metadata": {
    "collapsed": false
   },
   "id": "29b9ecc22a876b18",
   "execution_count": null
  },
  {
   "cell_type": "code",
   "source": [
    " def hot_point_by_year(year):\n",
    "    gdf = gpd.GeoDataFrame(\n",
    "        df_dataset, geometry=gpd.points_from_xy(df_dataset.longitude, df_dataset.latitude), crs=\"EPSG:4326\"\n",
    "    )\n",
    "    year_hot_point=gdf[gdf.year==year]\n",
    "    for region in gdf.region.unique():\n",
    "        fig, ax = plt.subplots(figsize=(10, 10))\n",
    "        gdf.plot(ax=ax)\n",
    "        \n",
    "        xmin, ymin, xmax, ymax = gdf[gdf.region == region].total_bounds\n",
    "        pad = 5  # add a padding around the geometry\n",
    "        ax.set_xlim(xmin-pad, xmax+pad)\n",
    "        ax.set_ylim(ymin-pad, ymax+pad)\n",
    "        # We can now plot our ``GeoDataFrame``.\n",
    "        frontiers.plot(ax=ax)\n",
    "        year_hot_point.plot(ax=ax, column=\"type_of_violence\", legend=True) \n",
    "        plt.title(f'Region: {region}, Année: {year}')"
   ],
   "metadata": {
    "collapsed": false
   },
   "id": "b3d22933468aa9c",
   "execution_count": null
  },
  {
   "cell_type": "code",
   "source": [
    "hot_point_by_year(2014)"
   ],
   "metadata": {
    "collapsed": false
   },
   "id": "fc8ca1a1111d813d",
   "execution_count": null
  },
  {
   "cell_type": "code",
   "source": [
    "hot_point_by_year(2015)"
   ],
   "metadata": {
    "collapsed": false
   },
   "id": "cbcec1cbfc67d3c3",
   "execution_count": null
  },
  {
   "cell_type": "code",
   "source": [],
   "metadata": {
    "collapsed": false
   },
   "id": "7f6eb09e4aea7194",
   "execution_count": null
  },
  {
   "cell_type": "markdown",
   "source": [
    "# ZONE d'EXPLOITATION DU DATASET\n",
    "- une frappe pour un couple latitude longitude20\n",
    "- intensité du conflit nombre de décès\n",
    "- intensité de la frappe de faible à forte\n",
    "- suivre  le dataset en time series\n",
    "- predire la probabilité d'une frappe et de son intensité sur quelle latitude longitude dans un laps de temps donné."
   ],
   "metadata": {
    "collapsed": false
   },
   "id": "67d999f0e7ae320e"
  },
  {
   "cell_type": "markdown",
   "source": [
    "\n",
    "# Zone de reflexion sur le model\n",
    "- Graphe de connexion \n",
    "- noeud A tuple (start end) avec features ne définissant pas les résultantes de l'attaques\n",
    "- noeud B tuple (longitude latitude) avec features définissant les résultantes de l'attaque\n",
    "- lien edge entre A et B\n",
    "- layers d'attention (GATConv ou GAT2vConv ou GraphSAGE)\n",
    "- layers GCN? 2?\n",
    "- definir un nombre fini des cinq (ou dix mais definis) prochaines attaques quand? quelles ? intensité?\n",
    "- la définition se fera sur la plus grande probabilité parmi les prédicition\n",
    "- metriques ROC AUC pour la fiabilité."
   ],
   "metadata": {
    "collapsed": false
   },
   "id": "e720ce88189f32e7"
  },
  {
   "cell_type": "markdown",
   "source": [
    "#  Zone de reflexion sur un graphe\n",
    "- regression linéaire\n",
    "- autant de edgess qu'il y a de lignes\n",
    "- il n'y a \"que\" 11312 date de debut d'events sur 225385 enregistrements\n",
    "- on anticipe un graphe à 11312 edges"
   ],
   "metadata": {
    "collapsed": false
   },
   "id": "5e3f9d70073d7d0b"
  },
  {
   "cell_type": "code",
   "source": [
    "df_dataset['date_start'].describe()"
   ],
   "metadata": {
    "collapsed": false
   },
   "id": "93d0c6d15668ef11",
   "execution_count": null
  },
  {
   "cell_type": "markdown",
   "source": [
    "G = nx.Graph()\n",
    "for node_tuple in [df_dataset.date_start,df_dataset.longitude, df_dataset.latitude, df_dataset.type_of_violence]:\n",
    "    G.add_edges_from(itertools.product(node_tuple, node_tuple))"
   ],
   "metadata": {
    "collapsed": false
   },
   "id": "f9f38c26f4eb8bac"
  },
  {
   "cell_type": "code",
   "source": [],
   "metadata": {
    "collapsed": false
   },
   "id": "b3bed81ebfc1f4a3"
  }
 ],
 "metadata": {
  "kernelspec": {
   "display_name": "Python 3",
   "language": "python",
   "name": "python3"
  },
  "language_info": {
   "codemirror_mode": {
    "name": "ipython",
    "version": 2
   },
   "file_extension": ".py",
   "mimetype": "text/x-python",
   "name": "python",
   "nbconvert_exporter": "python",
   "pygments_lexer": "ipython2",
   "version": "2.7.6"
  }
 },
 "nbformat": 4,
 "nbformat_minor": 5
}

